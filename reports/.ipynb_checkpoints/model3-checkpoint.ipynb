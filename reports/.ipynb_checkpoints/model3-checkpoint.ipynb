{
 "cells": [
  {
   "cell_type": "markdown",
   "metadata": {},
   "source": [
    "# Le net 5 in Tensorflow\n",
    "\n",
    "Le net 5 has the following architecture:\n",
    "\n",
    "- Input Image is 28x28x1 and converted to 32x32x1 as per LeNet requirements.\n",
    "- Convolution layer 1: The output shape should be 28x28x6.\n",
    "- Activation 1: Your choice of activation function.\n",
    "- Pooling layer 1: The output shape should be 14x14x6.\n",
    "- Convolution layer 2: The output shape should be 10x10x16.\n",
    "- Activation 2: Your choice of activation function.\n",
    "- Pooling layer 2: The output shape should be 5x5x16.\n",
    "- Flatten layer: Flatten the output shape of the final pooling layer such that it's 1D instead of 3D.\n",
    "- Fully connected layer 1: This should have 120 outputs.\n",
    "- Activation 3: Your choice of activation function.\n",
    "- Fully connected layer 2: This should have 10 outputs.\n",
    "- Return the result of the 2nd fully connected layer from the LeNet function.\n",
    "\n",
    "Parameters used for training:\n",
    "- Cost function: cross entropy with logits\n",
    "- Optimizer: gradient descent\n",
    "- Epochs: 100\n",
    "- Learning rate: 0.1\n",
    "\n",
    "Adittional preprossing:\n",
    "\n",
    "- The images were normalized so that values lie between 0 and 1.\n",
    "- All images were resize to [32,32,3]"
   ]
  },
  {
   "cell_type": "code",
   "execution_count": 2,
   "metadata": {
    "collapsed": true
   },
   "outputs": [],
   "source": [
    "import os\n",
    "os.chdir(\"..\")"
   ]
  },
  {
   "cell_type": "code",
   "execution_count": 3,
   "metadata": {},
   "outputs": [
    {
     "name": "stdout",
     "output_type": "stream",
     "text": [
      "Epoch:0\n",
      "Epoch:1\n",
      "Epoch:2\n",
      "Epoch:3\n",
      "Epoch:4\n",
      "Epoch:5\n",
      "Epoch:6\n",
      "Epoch:7\n",
      "Epoch:8\n",
      "Epoch:9\n",
      "Epoch:10\n",
      "Epoch:11\n",
      "Epoch:12\n",
      "Epoch:13\n",
      "Epoch:14\n",
      "Epoch:15\n",
      "Epoch:16\n",
      "Epoch:17\n",
      "Epoch:18\n",
      "Epoch:19\n",
      "Epoch:20\n",
      "Epoch:21\n",
      "Epoch:22\n",
      "Epoch:23\n",
      "Epoch:24\n",
      "Epoch:25\n",
      "Epoch:26\n",
      "Epoch:27\n",
      "Epoch:28\n",
      "Epoch:29\n",
      "Epoch:30\n",
      "Epoch:31\n",
      "Epoch:32\n",
      "Epoch:33\n",
      "Epoch:34\n",
      "Epoch:35\n",
      "Epoch:36\n",
      "Epoch:37\n",
      "Epoch:38\n",
      "Epoch:39\n",
      "Epoch:40\n",
      "Epoch:41\n",
      "Epoch:42\n",
      "Epoch:43\n",
      "Epoch:44\n",
      "Epoch:45\n",
      "Epoch:46\n",
      "Epoch:47\n",
      "Epoch:48\n",
      "Epoch:49\n",
      "Epoch:50\n",
      "Epoch:51\n",
      "Epoch:52\n",
      "Epoch:53\n",
      "Epoch:54\n",
      "Epoch:55\n",
      "Epoch:56\n",
      "Epoch:57\n",
      "Epoch:58\n",
      "Epoch:59\n",
      "Epoch:60\n",
      "Epoch:61\n",
      "Epoch:62\n",
      "Epoch:63\n",
      "Epoch:64\n",
      "Epoch:65\n",
      "Epoch:66\n",
      "Epoch:67\n",
      "Epoch:68\n",
      "Epoch:69\n",
      "Epoch:70\n",
      "Epoch:71\n",
      "Epoch:72\n",
      "Epoch:73\n",
      "Epoch:74\n",
      "Epoch:75\n",
      "Epoch:76\n",
      "Epoch:77\n",
      "Epoch:78\n",
      "Epoch:79\n",
      "Epoch:80\n",
      "Epoch:81\n",
      "Epoch:82\n",
      "Epoch:83\n",
      "Epoch:84\n",
      "Epoch:85\n",
      "Epoch:86\n",
      "Epoch:87\n",
      "Epoch:88\n",
      "Epoch:89\n",
      "Epoch:90\n",
      "Epoch:91\n",
      "Epoch:92\n",
      "Epoch:93\n",
      "Epoch:94\n",
      "Epoch:95\n",
      "Epoch:96\n",
      "Epoch:97\n",
      "Epoch:98\n",
      "Epoch:99\n",
      "Train error:0.937172777951\n"
     ]
    }
   ],
   "source": [
    "#Train error\n",
    "from model3 import train_model3, test_model3\n",
    "train_model3(\"images_bk/train\")"
   ]
  },
  {
   "cell_type": "code",
   "execution_count": 4,
   "metadata": {},
   "outputs": [
    {
     "name": "stdout",
     "output_type": "stream",
     "text": [
      "INFO:tensorflow:Restoring parameters from models\\model3\\saved\\model3.ckpt\n",
      "Test error: 0.949999999255\n"
     ]
    }
   ],
   "source": [
    "#Test error\n",
    "test_model3(\"images_bk/test\")"
   ]
  },
  {
   "cell_type": "markdown",
   "metadata": {},
   "source": [
    "As we can see, the error is pretty high, still the network is well programmed. It may happens because we only used about 720 training samples, in a model with a lot of parameters. It means that this models is suffering high bias (underfitting)."
   ]
  },
  {
   "cell_type": "code",
   "execution_count": null,
   "metadata": {
    "collapsed": true
   },
   "outputs": [],
   "source": []
  }
 ],
 "metadata": {
  "kernelspec": {
   "display_name": "Python 3",
   "language": "python",
   "name": "python3"
  },
  "language_info": {
   "codemirror_mode": {
    "name": "ipython",
    "version": 3
   },
   "file_extension": ".py",
   "mimetype": "text/x-python",
   "name": "python",
   "nbconvert_exporter": "python",
   "pygments_lexer": "ipython3",
   "version": "3.6.3"
  }
 },
 "nbformat": 4,
 "nbformat_minor": 2
}
